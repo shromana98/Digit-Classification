{
  "nbformat": 4,
  "nbformat_minor": 0,
  "metadata": {
    "colab": {
      "provenance": []
    },
    "kernelspec": {
      "name": "python3",
      "display_name": "Python 3"
    },
    "language_info": {
      "name": "python"
    }
  },
  "cells": [
    {
      "cell_type": "markdown",
      "source": [
        "# Digit Classification using Perceptron by Shromana Majumder"
      ],
      "metadata": {
        "id": "g-Pffsq3ESIF"
      }
    },
    {
      "cell_type": "markdown",
      "source": [
        "## Perceptron"
      ],
      "metadata": {
        "id": "HWqAcBqNEwGK"
      }
    },
    {
      "cell_type": "markdown",
      "source": [
        "\n",
        "A perceptron is one of the simplest forms of artificial neural networks (ANNs)."
      ],
      "metadata": {
        "id": "wHjRPdSnEn78"
      }
    },
    {
      "cell_type": "markdown",
      "source": [
        "**Single-Layer Perceptron**"
      ],
      "metadata": {
        "id": "tnlG9BFQE5Pu"
      }
    },
    {
      "cell_type": "markdown",
      "source": [
        "It is one of the oldest and first introduced neural networks. It was proposed by Frank Rosenblatt in 1958. Perceptron is also known as an artificial neural network. Perceptron is mainly used to compute the logical gate like AND, OR, and NOR which has binary input and binary output."
      ],
      "metadata": {
        "id": "g-gijWnSHfdd"
      }
    },
    {
      "cell_type": "markdown",
      "source": [
        "It's a single-layer neural network with one or more inputs, a weight for each input, and an activation function that determines the output. The perceptron takes the weighted sum of its inputs, applies an activation function, and produces an output."
      ],
      "metadata": {
        "id": "NQnnn02TE_AE"
      }
    },
    {
      "cell_type": "markdown",
      "source": [
        "## Function"
      ],
      "metadata": {
        "id": "lIM4G4P_HqzQ"
      }
    },
    {
      "cell_type": "markdown",
      "source": [
        "* Takes input from the input layer\n",
        "* Weight them up and sum it up.\n",
        "* Pass the sum to the nonlinear function to produce the output."
      ],
      "metadata": {
        "id": "39kVUlgVHtO-"
      }
    },
    {
      "cell_type": "markdown",
      "source": [
        "**Digit Classification**"
      ],
      "metadata": {
        "id": "8j5N10YwFH3_"
      }
    },
    {
      "cell_type": "markdown",
      "source": [
        "Digit classification is a common task in machine learning where the goal is to classify images of handwritten digits into their respective categories (0 through 9). (The MNIST dataset)"
      ],
      "metadata": {
        "id": "TzUioSBlFBQ6"
      }
    },
    {
      "cell_type": "markdown",
      "source": [
        "Importing Libraries"
      ],
      "metadata": {
        "id": "FwG94abaFUdu"
      }
    },
    {
      "cell_type": "code",
      "execution_count": 1,
      "metadata": {
        "id": "4c5rOqneC5fZ"
      },
      "outputs": [],
      "source": [
        "import numpy as np\n",
        "import tensorflow as tf\n",
        "from tensorflow import keras\n",
        "import matplotlib.pyplot as plt\n",
        "%matplotlib inline"
      ]
    },
    {
      "cell_type": "markdown",
      "source": [
        " Load MNIST dataset"
      ],
      "metadata": {
        "id": "Q-fJ3rIzFhJD"
      }
    },
    {
      "cell_type": "code",
      "source": [
        "\n",
        "mnist = tf.keras.datasets.mnist\n",
        "(x_train, y_train), (x_test, y_test) = mnist.load_data()\n"
      ],
      "metadata": {
        "colab": {
          "base_uri": "https://localhost:8080/"
        },
        "id": "9H7dsx23DjED",
        "outputId": "41a7675e-2080-432f-e30c-31025f4cb973"
      },
      "execution_count": 2,
      "outputs": [
        {
          "output_type": "stream",
          "name": "stdout",
          "text": [
            "Downloading data from https://storage.googleapis.com/tensorflow/tf-keras-datasets/mnist.npz\n",
            "11490434/11490434 [==============================] - 0s 0us/step\n"
          ]
        }
      ]
    },
    {
      "cell_type": "code",
      "source": [
        "len(x_train)\n",
        "len(x_test)\n",
        "x_train[0].shape\n",
        "plt.matshow(x_train[0])"
      ],
      "metadata": {
        "colab": {
          "base_uri": "https://localhost:8080/",
          "height": 454
        },
        "id": "oRDvyqN1Dv_z",
        "outputId": "6ff5dc9a-cf2f-458f-885d-494120c5f5d2"
      },
      "execution_count": 3,
      "outputs": [
        {
          "output_type": "execute_result",
          "data": {
            "text/plain": [
              "<matplotlib.image.AxesImage at 0x7b60bf2fe650>"
            ]
          },
          "metadata": {},
          "execution_count": 3
        },
        {
          "output_type": "display_data",
          "data": {
            "text/plain": [
              "<Figure size 480x480 with 1 Axes>"
            ],
            "image/png": "[encoded data removed]"
          },
          "metadata": {}
        }
      ]
    },
    {
      "cell_type": "markdown",
      "source": [
        "## Data Preprocessing"
      ],
      "metadata": {
        "id": "IhXuojx-Fs0J"
      }
    },
    {
      "cell_type": "markdown",
      "source": [
        "Each 28x28 pixel image is flattened into a 1D array of 784 values (28 * 28). These values become the input features to the perceptron."
      ],
      "metadata": {
        "id": "PU1Ppm1vFo1P"
      }
    },
    {
      "cell_type": "markdown",
      "source": [
        "## Normalizing the dataset"
      ],
      "metadata": {
        "id": "w1qWtcl5GC8u"
      }
    },
    {
      "cell_type": "code",
      "source": [
        "# Cast the records into float values\n",
        "x_train = x_train.astype('float32')\n",
        "x_test = x_test.astype('float32')"
      ],
      "metadata": {
        "id": "l7jN_HIeOQea"
      },
      "execution_count": null,
      "outputs": []
    },
    {
      "cell_type": "code",
      "source": [
        "x_train = x_train/255\n",
        "x_test = x_test/255"
      ],
      "metadata": {
        "id": "MwaPm3FPD4CI"
      },
      "execution_count": 4,
      "outputs": []
    },
    {
      "cell_type": "markdown",
      "source": [
        "## Flatting the dataset in order"
      ],
      "metadata": {
        "id": "Wfdz0b8YGKU3"
      }
    },
    {
      "cell_type": "code",
      "source": [
        "x_train_flatten = x_train.reshape(len(x_train), 28*28)\n",
        "x_test_flatten = x_test.reshape(len(x_test), 28*28)"
      ],
      "metadata": {
        "id": "XAVC51oTD_KB"
      },
      "execution_count": 5,
      "outputs": []
    },
    {
      "cell_type": "markdown",
      "source": [
        "## Training"
      ],
      "metadata": {
        "id": "lc8hpzPsGV55"
      }
    },
    {
      "cell_type": "markdown",
      "source": [
        " During training, the perceptron learns the optimal weights that minimize the classification error. This typically involves presenting the training data to the perceptron iteratively (epoch by epoch) and adjusting the weights based on the errors made by the perceptron."
      ],
      "metadata": {
        "id": "-Kddk1HwGWM8"
      }
    },
    {
      "cell_type": "markdown",
      "source": [
        "## Activation Function"
      ],
      "metadata": {
        "id": "OhtYScJKGlPa"
      }
    },
    {
      "cell_type": "markdown",
      "source": [
        "The choice of activation function is important. Here I have Chosen Sigmoid Function."
      ],
      "metadata": {
        "id": "zNaV0sTtGlgW"
      }
    },
    {
      "cell_type": "markdown",
      "source": [
        "The sigmoid activation function takes real values as input and converts them to numbers between 0 and 1 using the sigmoid formula."
      ],
      "metadata": {
        "id": "bgqmoNqAM8WG"
      }
    },
    {
      "cell_type": "code",
      "source": [
        "model = keras.Sequential([\n",
        "    keras.layers.Dense(10, input_shape=(784,),\n",
        "                       activation='sigmoid')\n",
        "])\n",
        "model.compile(\n",
        "    optimizer='adam',\n",
        "    loss='sparse_categorical_crossentropy',\n",
        "    metrics=['accuracy'])\n",
        "\n",
        "model.fit(x_train_flatten, y_train, epochs=5)"
      ],
      "metadata": {
        "colab": {
          "base_uri": "https://localhost:8080/"
        },
        "id": "Dod3X5S4EDrT",
        "outputId": "59b2013b-452c-4863-ee5b-0d75fce30d2d"
      },
      "execution_count": 6,
      "outputs": [
        {
          "output_type": "stream",
          "name": "stdout",
          "text": [
            "Epoch 1/5\n",
            "1875/1875 [==============================] - 4s 2ms/step - loss: 0.4715 - accuracy: 0.8756\n",
            "Epoch 2/5\n",
            "1875/1875 [==============================] - 3s 1ms/step - loss: 0.3041 - accuracy: 0.9152\n",
            "Epoch 3/5\n",
            "1875/1875 [==============================] - 3s 1ms/step - loss: 0.2833 - accuracy: 0.9203\n",
            "Epoch 4/5\n",
            "1875/1875 [==============================] - 3s 1ms/step - loss: 0.2737 - accuracy: 0.9233\n",
            "Epoch 5/5\n",
            "1875/1875 [==============================] - 4s 2ms/step - loss: 0.2666 - accuracy: 0.9255\n"
          ]
        },
        {
          "output_type": "execute_result",
          "data": {
            "text/plain": [
              "<keras.src.callbacks.History at 0x7b60bf7ecd00>"
            ]
          },
          "metadata": {},
          "execution_count": 6
        }
      ]
    },
    {
      "cell_type": "markdown",
      "source": [
        "# Model Evaluation"
      ],
      "metadata": {
        "id": "whtPDfZQG5-V"
      }
    },
    {
      "cell_type": "code",
      "source": [
        "model.evaluate(x_test_flatten, y_test)"
      ],
      "metadata": {
        "colab": {
          "base_uri": "https://localhost:8080/"
        },
        "id": "TqkNP0DqEJyE",
        "outputId": "4f750876-130a-482d-e09f-cc57572f6dcf"
      },
      "execution_count": 7,
      "outputs": [
        {
          "output_type": "stream",
          "name": "stdout",
          "text": [
            "313/313 [==============================] - 1s 1ms/step - loss: 0.2679 - accuracy: 0.9254\n"
          ]
        },
        {
          "output_type": "execute_result",
          "data": {
            "text/plain": [
              "[0.26785627007484436, 0.9254000186920166]"
            ]
          },
          "metadata": {},
          "execution_count": 7
        }
      ]
    },
    {
      "cell_type": "markdown",
      "source": [
        "*  A loss of 0.2679 indicates that, on average, the model's predictions are off by about 0.2679 units from the actual targets."
      ],
      "metadata": {
        "id": "XwWtB35fHNe_"
      }
    },
    {
      "cell_type": "markdown",
      "source": [
        "* An accuracy of 0.9254 means that the model correctly classified approximately 92.54% of the test samples."
      ],
      "metadata": {
        "id": "b5V6clUnHP7E"
      }
    },
    {
      "cell_type": "markdown",
      "source": [
        "## Limitations\n"
      ],
      "metadata": {
        "id": "xYSTkcfnIEta"
      }
    },
    {
      "cell_type": "markdown",
      "source": [
        "While perceptrons are simple and intuitive, they have limitations. They can only learn linear decision boundaries, which means they may struggle with tasks that require nonlinear separation of classes."
      ],
      "metadata": {
        "id": "oUOU6SrHIVC2"
      }
    },
    {
      "cell_type": "markdown",
      "source": [
        "# Multi-layer Perceptron"
      ],
      "metadata": {
        "id": "dbpNwa62IbKt"
      }
    },
    {
      "cell_type": "markdown",
      "source": [
        "Multi-layer perception is also known as MLP. It is fully connected dense layers, which transform any input dimension to the desired dimension. A multi-layer perception is a neural network that has multiple layers."
      ],
      "metadata": {
        "id": "yxhn0t28MhxB"
      }
    },
    {
      "cell_type": "markdown",
      "source": [
        "* A multi-layer perceptron has one input layer and for each input, there is one neuron(or node), it has one output layer with a single node for each output and it can have any number of hidden layers and each hidden layer can have any number of nodes."
      ],
      "metadata": {
        "id": "L4Bvbp9mMlup"
      }
    },
    {
      "cell_type": "markdown",
      "source": [
        "### Import libraries"
      ],
      "metadata": {
        "id": "M9KebSi6Mt1H"
      }
    },
    {
      "cell_type": "code",
      "source": [
        "from tensorflow.keras.models import Sequential\n",
        "from tensorflow.keras.layers import Flatten\n",
        "from tensorflow.keras.layers import Dense\n",
        "from tensorflow.keras.layers import Activation"
      ],
      "metadata": {
        "id": "QiCKPuzpNFDw"
      },
      "execution_count": 8,
      "outputs": []
    },
    {
      "cell_type": "markdown",
      "source": [
        "Download the dataset(MNIST dataset)"
      ],
      "metadata": {
        "id": "r_wK1tuSNfjl"
      }
    },
    {
      "cell_type": "code",
      "source": [
        "(x_train, y_train), (x_test, y_test) = tf.keras.datasets.mnist.load_data()"
      ],
      "metadata": {
        "id": "dAqVaMjFNjrc"
      },
      "execution_count": 9,
      "outputs": []
    },
    {
      "cell_type": "code",
      "source": [
        "# Cast the records into float values\n",
        "x_train = x_train.astype('float32')\n",
        "x_test = x_test.astype('float32')"
      ],
      "metadata": {
        "id": "5XeTMA78NsDD"
      },
      "execution_count": 10,
      "outputs": []
    },
    {
      "cell_type": "markdown",
      "source": [
        "### Normalize"
      ],
      "metadata": {
        "id": "qoqGudhwN0zo"
      }
    },
    {
      "cell_type": "code",
      "source": [
        "gray_scale = 255\n",
        "x_train /= gray_scale\n",
        "x_test /= gray_scale"
      ],
      "metadata": {
        "id": "dHwXofWQNyst"
      },
      "execution_count": 11,
      "outputs": []
    },
    {
      "cell_type": "code",
      "source": [
        "print(\"Feature matrix:\", x_train.shape)\n",
        "print(\"Target matrix:\", x_test.shape)\n",
        "print(\"Feature matrix:\", y_train.shape)\n",
        "print(\"Target matrix:\", y_test.shape)"
      ],
      "metadata": {
        "colab": {
          "base_uri": "https://localhost:8080/"
        },
        "id": "idLPzVH4OBxF",
        "outputId": "517eba71-877b-463a-a4e5-4c736fc907c2"
      },
      "execution_count": 12,
      "outputs": [
        {
          "output_type": "stream",
          "name": "stdout",
          "text": [
            "Feature matrix: (60000, 28, 28)\n",
            "Target matrix: (10000, 28, 28)\n",
            "Feature matrix: (60000,)\n",
            "Target matrix: (10000,)\n"
          ]
        }
      ]
    },
    {
      "cell_type": "markdown",
      "source": [
        "### Model Training"
      ],
      "metadata": {
        "id": "ziZcTcd_OaO5"
      }
    },
    {
      "cell_type": "markdown",
      "source": [
        "* Hidden Layers: The presence of hidden layers in an MLP allows it to learn hierarchical representations of the input data, capturing increasingly abstract features at each layer."
      ],
      "metadata": {
        "id": "UKA9sbs5PPcZ"
      }
    },
    {
      "cell_type": "code",
      "source": [
        "model = Sequential([\n",
        "\n",
        "    # reshape 28 row * 28 column data to 28*28 rows\n",
        "    Flatten(input_shape=(28, 28)),\n",
        "\n",
        "      # dense layer 1\n",
        "    Dense(256, activation='sigmoid'),\n",
        "\n",
        "    # dense layer 2\n",
        "    Dense(128, activation='sigmoid'),\n",
        "\n",
        "      # output layer\n",
        "    Dense(10, activation='sigmoid'),\n",
        "])"
      ],
      "metadata": {
        "id": "2NGWUPVGOZHj"
      },
      "execution_count": 13,
      "outputs": []
    },
    {
      "cell_type": "code",
      "source": [
        "model.compile(optimizer='adam',\n",
        "              loss='sparse_categorical_crossentropy',\n",
        "              metrics=['accuracy'])"
      ],
      "metadata": {
        "id": "B_14jvmVOjBL"
      },
      "execution_count": 14,
      "outputs": []
    },
    {
      "cell_type": "code",
      "source": [
        " model.fit(x_train, y_train, epochs=10,\n",
        "          batch_size=2000,\n",
        "          validation_split=0.2)"
      ],
      "metadata": {
        "colab": {
          "base_uri": "https://localhost:8080/"
        },
        "id": "_JSj-UsOOnE9",
        "outputId": "709f4a1c-d61e-40ee-fcaa-73d6b844966e"
      },
      "execution_count": 15,
      "outputs": [
        {
          "output_type": "stream",
          "name": "stdout",
          "text": [
            "Epoch 1/10\n",
            "24/24 [==============================] - 2s 56ms/step - loss: 2.0932 - accuracy: 0.3772 - val_loss: 1.7522 - val_accuracy: 0.6716\n",
            "Epoch 2/10\n",
            "24/24 [==============================] - 1s 46ms/step - loss: 1.4209 - accuracy: 0.7177 - val_loss: 1.0658 - val_accuracy: 0.7958\n",
            "Epoch 3/10\n",
            "24/24 [==============================] - 1s 47ms/step - loss: 0.8879 - accuracy: 0.8114 - val_loss: 0.6889 - val_accuracy: 0.8593\n",
            "Epoch 4/10\n",
            "24/24 [==============================] - 1s 46ms/step - loss: 0.6180 - accuracy: 0.8602 - val_loss: 0.5062 - val_accuracy: 0.8875\n",
            "Epoch 5/10\n",
            "24/24 [==============================] - 1s 46ms/step - loss: 0.4805 - accuracy: 0.8836 - val_loss: 0.4123 - val_accuracy: 0.9005\n",
            "Epoch 6/10\n",
            "24/24 [==============================] - 1s 47ms/step - loss: 0.4041 - accuracy: 0.8975 - val_loss: 0.3559 - val_accuracy: 0.9087\n",
            "Epoch 7/10\n",
            "24/24 [==============================] - 1s 46ms/step - loss: 0.3563 - accuracy: 0.9062 - val_loss: 0.3204 - val_accuracy: 0.9161\n",
            "Epoch 8/10\n",
            "24/24 [==============================] - 2s 65ms/step - loss: 0.3243 - accuracy: 0.9114 - val_loss: 0.2950 - val_accuracy: 0.9211\n",
            "Epoch 9/10\n",
            "24/24 [==============================] - 2s 78ms/step - loss: 0.3005 - accuracy: 0.9168 - val_loss: 0.2763 - val_accuracy: 0.9250\n",
            "Epoch 10/10\n",
            "24/24 [==============================] - 1s 47ms/step - loss: 0.2809 - accuracy: 0.9221 - val_loss: 0.2610 - val_accuracy: 0.9278\n"
          ]
        },
        {
          "output_type": "execute_result",
          "data": {
            "text/plain": [
              "<keras.src.callbacks.History at 0x7b60a025f010>"
            ]
          },
          "metadata": {},
          "execution_count": 15
        }
      ]
    },
    {
      "cell_type": "code",
      "source": [
        "results = model.evaluate(x_test,  y_test, verbose = 0)\n",
        "print('test loss, test acc:', results)"
      ],
      "metadata": {
        "colab": {
          "base_uri": "https://localhost:8080/"
        },
        "id": "a1hUwL02OuPG",
        "outputId": "4d793bee-ccf0-43f6-c270-9040dffd1cc1"
      },
      "execution_count": 16,
      "outputs": [
        {
          "output_type": "stream",
          "name": "stdout",
          "text": [
            "test loss, test acc: [0.26581209897994995, 0.9244999885559082]\n"
          ]
        }
      ]
    },
    {
      "cell_type": "markdown",
      "source": [
        "*  A loss of 0.2679 indicates that, on average, the model's predictions are off by about 0.2679 units from the actual targets."
      ],
      "metadata": {
        "id": "on-imlSnO6PQ"
      }
    },
    {
      "cell_type": "markdown",
      "source": [
        "* An accuracy of 0.9254 means that the model correctly classified approximately 92.54% of the test samples."
      ],
      "metadata": {
        "id": "yp2_Mxz_O-K6"
      }
    },
    {
      "cell_type": "markdown",
      "source": [
        "**Advantages of MLP for Digit Classification:**\n",
        "* Non-linearity: MLPs can learn complex patterns and non-linear relationships in the data.\n",
        "* Flexibility: The architecture of MLPs can be customized by adjusting the number of hidden layers, the number of neurons in each layer, and the choice of activation functions, allowing for flexibility in modeling different complexities of data."
      ],
      "metadata": {
        "id": "QbSY9f-zPeNM"
      }
    }
  ]
}